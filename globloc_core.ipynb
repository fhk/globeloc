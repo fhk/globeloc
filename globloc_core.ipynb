{
 "cells": [
  {
   "cell_type": "markdown",
   "metadata": {},
   "source": [
    "# Globeloc\n",
    "\n",
    "The core functionality to create the data structure for the global spatial array.\n",
    "\n",
    "There are four parts\n",
    "\n",
    "1. The creation of data in the array format\n",
    "2. The storage of data in a flat file format\n",
    "3. The loading and access to the data as per pandas api\n",
    "4. A cloud hosted data store where uses can push, pull, add data\n",
    "\n",
    "The specification for this product is layed out in the product description document"
   ]
  },
  {
   "cell_type": "code",
   "execution_count": 1,
   "metadata": {},
   "outputs": [],
   "source": [
    "import fiona\n",
    "import pandas as pd\n",
    "import geopandas as gpd"
   ]
  },
  {
   "cell_type": "code",
   "execution_count": 2,
   "metadata": {},
   "outputs": [],
   "source": [
    "f_df = gpd.read_file(\"./gis_osm_pois_free_1.shp\")"
   ]
  },
  {
   "cell_type": "code",
   "execution_count": 3,
   "metadata": {},
   "outputs": [
    {
     "data": {
      "text/plain": [
       "<matplotlib.axes._subplots.AxesSubplot at 0x7f5c757647d0>"
      ]
     },
     "execution_count": 3,
     "metadata": {},
     "output_type": "execute_result"
    },
    {
     "data": {
      "image/png": "[encoded data removed]",
      "text/plain": [
       "<Figure size 432x288 with 1 Axes>"
      ]
     },
     "metadata": {
      "needs_background": "light"
     },
     "output_type": "display_data"
    }
   ],
   "source": [
    "f_df.plot()"
   ]
  },
  {
   "cell_type": "code",
   "execution_count": 4,
   "metadata": {},
   "outputs": [
    {
     "data": {
      "text/html": [
       "<div>\n",
       "<style scoped>\n",
       "    .dataframe tbody tr th:only-of-type {\n",
       "        vertical-align: middle;\n",
       "    }\n",
       "\n",
       "    .dataframe tbody tr th {\n",
       "        vertical-align: top;\n",
       "    }\n",
       "\n",
       "    .dataframe thead th {\n",
       "        text-align: right;\n",
       "    }\n",
       "</style>\n",
       "<table border=\"1\" class=\"dataframe\">\n",
       "  <thead>\n",
       "    <tr style=\"text-align: right;\">\n",
       "      <th></th>\n",
       "      <th>code</th>\n",
       "    </tr>\n",
       "  </thead>\n",
       "  <tbody>\n",
       "    <tr>\n",
       "      <th>count</th>\n",
       "      <td>47385.000000</td>\n",
       "    </tr>\n",
       "    <tr>\n",
       "      <th>mean</th>\n",
       "      <td>2480.199304</td>\n",
       "    </tr>\n",
       "    <tr>\n",
       "      <th>std</th>\n",
       "      <td>306.285068</td>\n",
       "    </tr>\n",
       "    <tr>\n",
       "      <th>min</th>\n",
       "      <td>2001.000000</td>\n",
       "    </tr>\n",
       "    <tr>\n",
       "      <th>25%</th>\n",
       "      <td>2301.000000</td>\n",
       "    </tr>\n",
       "    <tr>\n",
       "      <th>50%</th>\n",
       "      <td>2424.000000</td>\n",
       "    </tr>\n",
       "    <tr>\n",
       "      <th>75%</th>\n",
       "      <td>2741.000000</td>\n",
       "    </tr>\n",
       "    <tr>\n",
       "      <th>max</th>\n",
       "      <td>2964.000000</td>\n",
       "    </tr>\n",
       "  </tbody>\n",
       "</table>\n",
       "</div>"
      ],
      "text/plain": [
       "               code\n",
       "count  47385.000000\n",
       "mean    2480.199304\n",
       "std      306.285068\n",
       "min     2001.000000\n",
       "25%     2301.000000\n",
       "50%     2424.000000\n",
       "75%     2741.000000\n",
       "max     2964.000000"
      ]
     },
     "execution_count": 4,
     "metadata": {},
     "output_type": "execute_result"
    }
   ],
   "source": [
    "f_df.describe()"
   ]
  },
  {
   "cell_type": "markdown",
   "metadata": {},
   "source": [
    "OK so we have 72K locations of interest... But what we want is to able to search the data. Traditionally we would need to define a polygon boundary and then write a intersection query. If we want this to be fast it means we have to make a quadtree. Or use a database.\n",
    "\n",
    "But what if we could just index into the world and pick the data we wanted?\n",
    "\n",
    "Or we could just multiply arrays. The boundary we want x the base data set."
   ]
  },
  {
   "cell_type": "markdown",
   "metadata": {},
   "source": [
    "# Create the raw data"
   ]
  },
  {
   "cell_type": "code",
   "execution_count": 5,
   "metadata": {},
   "outputs": [],
   "source": [
    "import numpy as np\n",
    "from scipy import sparse"
   ]
  },
  {
   "cell_type": "markdown",
   "metadata": {},
   "source": [
    "We need to know the size of our array.\n",
    "\n",
    "Number of files, rows, cols."
   ]
  },
  {
   "cell_type": "code",
   "execution_count": 6,
   "metadata": {},
   "outputs": [
    {
     "data": {
      "text/plain": [
       "['bench',\n",
       " 'park',\n",
       " 'mall',\n",
       " 'car_sharing',\n",
       " 'bar',\n",
       " 'ice_rink',\n",
       " 'waste_basket',\n",
       " 'pub',\n",
       " 'ruins',\n",
       " 'recycling_metal',\n",
       " 'wayside_cross',\n",
       " 'post_office',\n",
       " 'car_wash',\n",
       " 'lighthouse',\n",
       " 'chalet',\n",
       " 'stadium',\n",
       " 'water_tower',\n",
       " 'dog_park',\n",
       " 'florist',\n",
       " 'video_shop',\n",
       " 'atm',\n",
       " 'water_well',\n",
       " 'nursing_home',\n",
       " 'kindergarten',\n",
       " 'pharmacy',\n",
       " 'gift_shop',\n",
       " 'recycling_paper',\n",
       " 'library',\n",
       " 'recycling',\n",
       " 'hostel',\n",
       " 'hotel',\n",
       " 'zoo',\n",
       " 'recycling_clothes',\n",
       " 'computer_shop',\n",
       " 'bookshop',\n",
       " 'memorial',\n",
       " 'vending_cigarette',\n",
       " 'doctors',\n",
       " 'playground',\n",
       " 'shelter',\n",
       " 'garden_centre',\n",
       " 'jeweller',\n",
       " 'hunting_stand',\n",
       " 'beverages',\n",
       " 'telephone',\n",
       " 'convenience',\n",
       " 'windmill',\n",
       " 'hospital',\n",
       " 'mobile_phone_shop',\n",
       " 'food_court',\n",
       " 'castle',\n",
       " 'butcher',\n",
       " 'swimming_pool',\n",
       " 'camp_site',\n",
       " 'public_building',\n",
       " 'doityourself',\n",
       " 'car_rental',\n",
       " 'golf_course',\n",
       " 'school',\n",
       " 'tower',\n",
       " 'vending_parking',\n",
       " 'archaeological',\n",
       " 'prison',\n",
       " 'cafe',\n",
       " 'greengrocer',\n",
       " 'fire_station',\n",
       " 'water_works',\n",
       " 'picnic_site',\n",
       " 'observation_tower',\n",
       " 'wastewater_plant',\n",
       " 'guesthouse',\n",
       " 'drinking_water',\n",
       " 'community_centre',\n",
       " 'university',\n",
       " 'arts_centre',\n",
       " 'comms_tower',\n",
       " 'vending_machine',\n",
       " 'bicycle_shop',\n",
       " 'battlefield',\n",
       " 'caravan_site',\n",
       " 'bank',\n",
       " 'viewpoint',\n",
       " 'theatre',\n",
       " 'bicycle_rental',\n",
       " 'theme_park',\n",
       " 'supermarket',\n",
       " 'newsagent',\n",
       " 'camera_surveillance',\n",
       " 'graveyard',\n",
       " 'town_hall',\n",
       " 'laundry',\n",
       " 'artwork',\n",
       " 'beauty_shop',\n",
       " 'bakery',\n",
       " 'fort',\n",
       " 'track',\n",
       " 'clothes',\n",
       " 'toilet',\n",
       " 'chemist',\n",
       " 'hairdresser',\n",
       " 'museum',\n",
       " 'tourist_info',\n",
       " 'fast_food',\n",
       " 'cinema',\n",
       " 'police',\n",
       " 'embassy',\n",
       " 'college',\n",
       " 'kiosk',\n",
       " 'veterinary',\n",
       " 'biergarten',\n",
       " 'outdoor_shop',\n",
       " 'optician',\n",
       " 'toy_shop',\n",
       " 'furniture_shop',\n",
       " 'recycling_glass',\n",
       " 'car_dealership',\n",
       " 'vending_any',\n",
       " 'motel',\n",
       " 'wayside_shrine',\n",
       " 'nightclub',\n",
       " 'post_box',\n",
       " 'fountain',\n",
       " 'stationery',\n",
       " 'department_store',\n",
       " 'pitch',\n",
       " 'travel_agent',\n",
       " 'dentist',\n",
       " 'sports_centre',\n",
       " 'sports_shop',\n",
       " 'attraction',\n",
       " 'restaurant',\n",
       " 'shoe_shop',\n",
       " 'courthouse',\n",
       " 'monument']"
      ]
     },
     "execution_count": 6,
     "metadata": {},
     "output_type": "execute_result"
    }
   ],
   "source": [
    "num_deci_places = 10000 # https://gis.stackexchange.com/questions/8650/measuring-accuracy-of-latitude-and-longitude\n",
    "n_depth = len(set(f_df.fclass))\n",
    "col_keys = [k for k in set(f_df.fclass)]\n",
    "n_rows = 180 * num_deci_places\n",
    "n_cols = 360 * num_deci_places\n",
    "n_files = None\n",
    "col_keys"
   ]
  },
  {
   "cell_type": "code",
   "execution_count": 7,
   "metadata": {},
   "outputs": [],
   "source": [
    "coords = f_df.geometry\n",
    "f_df['x'] = coords.apply(lambda p: p.x) # Lon\n",
    "f_df['y'] = coords.apply(lambda p: p.y) # Lat"
   ]
  },
  {
   "cell_type": "code",
   "execution_count": 8,
   "metadata": {},
   "outputs": [],
   "source": [
    "f_df['t_x'] = f_df['x'].apply(lambda p: round((p + 180) * num_deci_places), 0)\n",
    "f_df['t_y'] = f_df['y'].apply(lambda p: round((p + 90) * num_deci_places), 0)"
   ]
  },
  {
   "cell_type": "code",
   "execution_count": 9,
   "metadata": {},
   "outputs": [],
   "source": [
    "# assuming we always have less data than then number of cells\n",
    "arrays = [sparse.lil_matrix((n_rows, n_cols), dtype=np.uint8) for _ in range(1)] #n_depth limit to one thing]\n",
    "start_of_slices = f_df['t_x'].min()\n",
    "for ix, row in f_df.iterrows():\n",
    "    what = row.fclass\n",
    "    what_index = col_keys.index(what)\n",
    "    arrays[0][row.t_y, row.t_x - start_of_slices] += 1"
   ]
  },
  {
   "cell_type": "code",
   "execution_count": 10,
   "metadata": {},
   "outputs": [
    {
     "name": "stdout",
     "output_type": "stream",
     "text": [
      "Found 47385 value/s\n"
     ]
    }
   ],
   "source": [
    "for k, attribute in enumerate(arrays):\n",
    "    hit_count = attribute.sum()\n",
    "    print(f'Found {hit_count} value/s')\n",
    "    what_thing = col_keys[k]\n",
    "    sparse.save_npz(f'./data/{what_thing}.npz',attribute.tocsr())"
   ]
  },
  {
   "cell_type": "markdown",
   "metadata": {},
   "source": [
    "Interestingly we can use \"cupy\" directly to load these arrays into GPU and compute on the > 4x faster\n",
    "\n",
    "https://docs-cupy.chainer.org/en/stable/reference/sparse.html\n",
    "\n",
    "Now we want to find a boundary and query it against this array.\n",
    "\n",
    "Lets look at Miami!\n"
   ]
  },
  {
   "cell_type": "code",
   "execution_count": 95,
   "metadata": {},
   "outputs": [
    {
     "name": "stderr",
     "output_type": "stream",
     "text": [
      "/home/plantz/anaconda3/envs/gloc/lib/python3.7/site-packages/pyproj/crs/crs.py:53: FutureWarning: '+init=<authority>:<code>' syntax is deprecated. '<authority>:<code>' is the preferred initialization method. When making the change, be mindful of axis order changes: https://pyproj4.github.io/pyproj/stable/gotchas.html#axis-order-changes-in-proj-6\n",
      "  return _prepare_from_string(\" \".join(pjargs))\n"
     ]
    }
   ],
   "source": [
    "miami_df = gpd.read_file(\"./MiamiDadeBoundary.shp\")\n",
    "miami_a = sparse.lil_matrix((n_rows, n_cols))\n",
    "miami_df = miami_df.to_crs('epsg:4326')"
   ]
  },
  {
   "cell_type": "code",
   "execution_count": 96,
   "metadata": {},
   "outputs": [],
   "source": [
    "e_line = [(round((c[0] + 180) * num_deci_places), round((c[1] + 90) * num_deci_places)) for c in miami_df.geometry[0].exterior.coords[:]]\n",
    "lines = [(e_line[i], e_line[i + 1]) for i in range(len(e_line) - 1)]"
   ]
  },
  {
   "cell_type": "code",
   "execution_count": 97,
   "metadata": {},
   "outputs": [],
   "source": [
    "from skimage.draw import line_nd"
   ]
  },
  {
   "cell_type": "code",
   "execution_count": 98,
   "metadata": {},
   "outputs": [],
   "source": [
    "for l in lines:\n",
    "    miami_a[line_nd(l[0], l[-1])] = 1"
   ]
  },
  {
   "cell_type": "code",
   "execution_count": 105,
   "metadata": {},
   "outputs": [],
   "source": [
    "from scipy.ndimage.morphology import binary_fill_holes"
   ]
  },
  {
   "cell_type": "code",
   "execution_count": 120,
   "metadata": {},
   "outputs": [
    {
     "ename": "ValueError",
     "evalue": "The truth value of an array with more than one element is ambiguous. Use a.any() or a.all().",
     "output_type": "error",
     "traceback": [
      "\u001b[0;31m---------------------------------------------------------------------------\u001b[0m",
      "\u001b[0;31mValueError\u001b[0m                                Traceback (most recent call last)",
      "\u001b[0;32m<ipython-input-120-9863bc65b477>\u001b[0m in \u001b[0;36m<module>\u001b[0;34m\u001b[0m\n\u001b[0;32m----> 1\u001b[0;31m \u001b[0mbinary_fill_holes\u001b[0m\u001b[0;34m(\u001b[0m\u001b[0mmiami_a\u001b[0m\u001b[0;34m)\u001b[0m\u001b[0;34m.\u001b[0m\u001b[0mastype\u001b[0m\u001b[0;34m(\u001b[0m\u001b[0mint\u001b[0m\u001b[0;34m)\u001b[0m\u001b[0;34m\u001b[0m\u001b[0;34m\u001b[0m\u001b[0m\n\u001b[0m",
      "\u001b[0;32m~/anaconda3/envs/gloc/lib/python3.7/site-packages/scipy/ndimage/morphology.py\u001b[0m in \u001b[0;36mbinary_fill_holes\u001b[0;34m(input, structure, output, origin)\u001b[0m\n\u001b[1;32m   1095\u001b[0m \u001b[0;34m\u001b[0m\u001b[0m\n\u001b[1;32m   1096\u001b[0m     \"\"\"\n\u001b[0;32m-> 1097\u001b[0;31m     \u001b[0mmask\u001b[0m \u001b[0;34m=\u001b[0m \u001b[0mnumpy\u001b[0m\u001b[0;34m.\u001b[0m\u001b[0mlogical_not\u001b[0m\u001b[0;34m(\u001b[0m\u001b[0minput\u001b[0m\u001b[0;34m)\u001b[0m\u001b[0;34m\u001b[0m\u001b[0;34m\u001b[0m\u001b[0m\n\u001b[0m\u001b[1;32m   1098\u001b[0m     \u001b[0mtmp\u001b[0m \u001b[0;34m=\u001b[0m \u001b[0mnumpy\u001b[0m\u001b[0;34m.\u001b[0m\u001b[0mzeros\u001b[0m\u001b[0;34m(\u001b[0m\u001b[0mmask\u001b[0m\u001b[0;34m.\u001b[0m\u001b[0mshape\u001b[0m\u001b[0;34m,\u001b[0m \u001b[0mbool\u001b[0m\u001b[0;34m)\u001b[0m\u001b[0;34m\u001b[0m\u001b[0;34m\u001b[0m\u001b[0m\n\u001b[1;32m   1099\u001b[0m     \u001b[0minplace\u001b[0m \u001b[0;34m=\u001b[0m \u001b[0misinstance\u001b[0m\u001b[0;34m(\u001b[0m\u001b[0moutput\u001b[0m\u001b[0;34m,\u001b[0m \u001b[0mnumpy\u001b[0m\u001b[0;34m.\u001b[0m\u001b[0mndarray\u001b[0m\u001b[0;34m)\u001b[0m\u001b[0;34m\u001b[0m\u001b[0;34m\u001b[0m\u001b[0m\n",
      "\u001b[0;32m~/anaconda3/envs/gloc/lib/python3.7/site-packages/scipy/sparse/base.py\u001b[0m in \u001b[0;36m__bool__\u001b[0;34m(self)\u001b[0m\n\u001b[1;32m    285\u001b[0m             \u001b[0;32mreturn\u001b[0m \u001b[0mself\u001b[0m\u001b[0;34m.\u001b[0m\u001b[0mnnz\u001b[0m \u001b[0;34m!=\u001b[0m \u001b[0;36m0\u001b[0m\u001b[0;34m\u001b[0m\u001b[0;34m\u001b[0m\u001b[0m\n\u001b[1;32m    286\u001b[0m         \u001b[0;32melse\u001b[0m\u001b[0;34m:\u001b[0m\u001b[0;34m\u001b[0m\u001b[0;34m\u001b[0m\u001b[0m\n\u001b[0;32m--> 287\u001b[0;31m             raise ValueError(\"The truth value of an array with more than one \"\n\u001b[0m\u001b[1;32m    288\u001b[0m                              \"element is ambiguous. Use a.any() or a.all().\")\n\u001b[1;32m    289\u001b[0m     \u001b[0m__nonzero__\u001b[0m \u001b[0;34m=\u001b[0m \u001b[0m__bool__\u001b[0m\u001b[0;34m\u001b[0m\u001b[0;34m\u001b[0m\u001b[0m\n",
      "\u001b[0;31mValueError\u001b[0m: The truth value of an array with more than one element is ambiguous. Use a.any() or a.all()."
     ]
    }
   ],
   "source": [
    "binary_fill_holes(miami_a).astype(int)"
   ]
  },
  {
   "cell_type": "code",
   "execution_count": 121,
   "metadata": {},
   "outputs": [],
   "source": [
    "from skimage.segmentation import flood, flood_fill"
   ]
  },
  {
   "cell_type": "code",
   "execution_count": 122,
   "metadata": {},
   "outputs": [
    {
     "ename": "IndexError",
     "evalue": "too many indices for array",
     "output_type": "error",
     "traceback": [
      "\u001b[0;31m---------------------------------------------------------------------------\u001b[0m",
      "\u001b[0;31mIndexError\u001b[0m                                Traceback (most recent call last)",
      "\u001b[0;32m<ipython-input-122-cb166fa26dbf>\u001b[0m in \u001b[0;36m<module>\u001b[0;34m\u001b[0m\n\u001b[0;32m----> 1\u001b[0;31m \u001b[0mflood_fill\u001b[0m\u001b[0;34m(\u001b[0m\u001b[0mmiami_a\u001b[0m\u001b[0;34m,\u001b[0m \u001b[0me_line\u001b[0m\u001b[0;34m[\u001b[0m\u001b[0;36m0\u001b[0m\u001b[0;34m]\u001b[0m\u001b[0;34m,\u001b[0m \u001b[0;36m1\u001b[0m\u001b[0;34m,\u001b[0m \u001b[0mtolerance\u001b[0m\u001b[0;34m=\u001b[0m\u001b[0;36m10\u001b[0m\u001b[0;34m)\u001b[0m\u001b[0;34m\u001b[0m\u001b[0;34m\u001b[0m\u001b[0m\n\u001b[0m",
      "\u001b[0;32m~/anaconda3/envs/gloc/lib/python3.7/site-packages/skimage/morphology/_flood_fill.py\u001b[0m in \u001b[0;36mflood_fill\u001b[0;34m(image, seed_point, new_value, selem, connectivity, tolerance, inplace)\u001b[0m\n\u001b[1;32m    102\u001b[0m     \"\"\"\n\u001b[1;32m    103\u001b[0m     mask = flood(image, seed_point, selem=selem, connectivity=connectivity,\n\u001b[0;32m--> 104\u001b[0;31m                  tolerance=tolerance)\n\u001b[0m\u001b[1;32m    105\u001b[0m \u001b[0;34m\u001b[0m\u001b[0m\n\u001b[1;32m    106\u001b[0m     \u001b[0;32mif\u001b[0m \u001b[0;32mnot\u001b[0m \u001b[0minplace\u001b[0m\u001b[0;34m:\u001b[0m\u001b[0;34m\u001b[0m\u001b[0;34m\u001b[0m\u001b[0m\n",
      "\u001b[0;32m~/anaconda3/envs/gloc/lib/python3.7/site-packages/skimage/morphology/_flood_fill.py\u001b[0m in \u001b[0;36mflood\u001b[0;34m(image, seed_point, selem, connectivity, tolerance)\u001b[0m\n\u001b[1;32m    214\u001b[0m         \u001b[0morder\u001b[0m \u001b[0;34m=\u001b[0m \u001b[0;34m'C'\u001b[0m\u001b[0;34m\u001b[0m\u001b[0;34m\u001b[0m\u001b[0m\n\u001b[1;32m    215\u001b[0m \u001b[0;34m\u001b[0m\u001b[0m\n\u001b[0;32m--> 216\u001b[0;31m     \u001b[0mseed_value\u001b[0m \u001b[0;34m=\u001b[0m \u001b[0mimage\u001b[0m\u001b[0;34m[\u001b[0m\u001b[0mseed_point\u001b[0m\u001b[0;34m]\u001b[0m\u001b[0;34m\u001b[0m\u001b[0;34m\u001b[0m\u001b[0m\n\u001b[0m\u001b[1;32m    217\u001b[0m \u001b[0;34m\u001b[0m\u001b[0m\n\u001b[1;32m    218\u001b[0m     \u001b[0;31m# Shortcut for rank zero\u001b[0m\u001b[0;34m\u001b[0m\u001b[0;34m\u001b[0m\u001b[0;34m\u001b[0m\u001b[0m\n",
      "\u001b[0;31mIndexError\u001b[0m: too many indices for array"
     ]
    }
   ],
   "source": [
    "flood_fill(miami_a, e_line[0], 1, tolerance=10)"
   ]
  },
  {
   "cell_type": "code",
   "execution_count": null,
   "metadata": {},
   "outputs": [],
   "source": []
  }
 ],
 "metadata": {
  "kernelspec": {
   "display_name": "Python 3",
   "language": "python",
   "name": "python3"
  },
  "language_info": {
   "codemirror_mode": {
    "name": "ipython",
    "version": 3
   },
   "file_extension": ".py",
   "mimetype": "text/x-python",
   "name": "python",
   "nbconvert_exporter": "python",
   "pygments_lexer": "ipython3",
   "version": "3.7.7"
  }
 },
 "nbformat": 4,
 "nbformat_minor": 4
}
